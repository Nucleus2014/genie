{
 "cells": [
  {
   "cell_type": "code",
   "execution_count": null,
   "metadata": {},
   "outputs": [],
   "source": []
  },
  {
   "cell_type": "code",
   "execution_count": null,
   "metadata": {},
   "outputs": [],
   "source": []
  },
  {
   "cell_type": "markdown",
   "metadata": {},
   "source": [
    "# Generate new proteins using pre-trained genie"
   ]
  },
  {
   "cell_type": "code",
   "execution_count": 1,
   "metadata": {
    "tags": []
   },
   "outputs": [
    {
     "name": "stdin",
     "output_type": "stream",
     "text": [
      "GPU devices to use: 0\n",
      "Save generated coordinates to: \n",
      "number of batches: 1\n",
      "batch size: 1\n"
     ]
    }
   ],
   "source": [
    "import os\n",
    "import sys\n",
    "import torch\n",
    "import argparse\n",
    "import numpy as np\n",
    "from tqdm import tqdm, trange\n",
    "\n",
    "np.set_printoptions(suppress=True)\n",
    "\n",
    "gpu = input(\"GPU devices to use:\")\n",
    "if gpu == '':\n",
    "    gpu = None\n",
    "outdir = input(\"Save generated coordinates to:\")\n",
    "if outdir == '':\n",
    "    outdir = 'outputs'\n",
    "num_batches = input(\"number of batches:\")\n",
    "if num_batches == '':\n",
    "    num_batches = 2\n",
    "else:\n",
    "    num_batches = int(num_batches)\n",
    "batch_size = input(\"batch size:\")\n",
    "if batch_size == '':\n",
    "    batch_size = 5\n",
    "else:\n",
    "    batch_size = int(batch_size)\n",
    "\n",
    "if not os.path.exists(outdir):\n",
    "    os.mkdir(outdir)"
   ]
  },
  {
   "cell_type": "code",
   "execution_count": 2,
   "metadata": {
    "tags": []
   },
   "outputs": [
    {
     "name": "stderr",
     "output_type": "stream",
     "text": [
      "Lightning automatically upgraded your loaded checkpoint from v1.8.3.post1 to v2.0.0. To apply the upgrade to your files permanently, run `python -m pytorch_lightning.utilities.upgrade_checkpoint --file weights/genie_l_128_epoch=49999.ckpt`\n"
     ]
    }
   ],
   "source": [
    "from genie.config import Config\n",
    "from genie.diffusion.genie import Genie\n",
    "\n",
    "config = Config('weights/configuration')\n",
    "model = Genie.load_from_checkpoint('weights/genie_l_128_epoch=49999.ckpt', config=config)\n",
    "\n",
    "device = 'cuda:{}'.format(gpu) if gpu is not None else 'cpu'\n",
    "model = model.to(device)"
   ]
  },
  {
   "cell_type": "code",
   "execution_count": 6,
   "metadata": {
    "tags": []
   },
   "outputs": [
    {
     "name": "stdout",
     "output_type": "stream",
     "text": [
      "torch.Size([1, 128])\n"
     ]
    }
   ],
   "source": [
    "# sanity check\n",
    "# min_length = 50\n",
    "import analysis.utils as au\n",
    "max_length = 128\n",
    "max_n_res = model.config.io['max_n_res']\n",
    "assert max_length <= max_n_res\n",
    "\n",
    "# sample\n",
    "# for length in trange(min_length, max_length + 1):\n",
    "length = 128\n",
    "for batch_idx in range(num_batches):\n",
    "    mask = torch.cat([\n",
    "        torch.ones((batch_size, length)),\n",
    "        torch.zeros((batch_size, max_n_res - length))\n",
    "    ], dim=1).to(device)\n",
    "    ts = model.p_sample_loop(mask, verbose=False)[-1]\n",
    "    for batch_sample_idx in range(ts.shape[0]):\n",
    "        sample_idx = batch_idx * batch_size + batch_sample_idx\n",
    "        coords = ts[batch_sample_idx].trans.detach().cpu().numpy()\n",
    "        coords = coords[:length]\n",
    "        np.savetxt(os.path.join(outdir, f'{length}_{sample_idx}.npy'), coords, fmt='%.3f', delimiter=',')"
   ]
  },
  {
   "cell_type": "code",
   "execution_count": 1,
   "metadata": {},
   "outputs": [],
   "source": [
    "import numpy as np\n",
    "outdir = 'outputs'\n",
    "length = 128\n",
    "sample_idx = 0\n",
    "coords = np.loadtxt('outputs/128_0.npy', delimiter=',')"
   ]
  },
  {
   "cell_type": "code",
   "execution_count": 2,
   "metadata": {},
   "outputs": [
    {
     "data": {
      "text/plain": [
       "'outputs/len_128_0.pdb'"
      ]
     },
     "execution_count": 2,
     "metadata": {},
     "output_type": "execute_result"
    }
   ],
   "source": [
    "import analysis.utils as au\n",
    "save_path = f'{outdir}/len_{length}_{sample_idx}.pdb'\n",
    "au.write_prot_to_pdb(coords, save_path, no_indexing=True)"
   ]
  },
  {
   "cell_type": "code",
   "execution_count": 10,
   "metadata": {
    "collapsed": true,
    "jupyter": {
     "outputs_hidden": true
    },
    "tags": []
   },
   "outputs": [
    {
     "ename": "NameError",
     "evalue": "name 'mask' is not defined",
     "output_type": "error",
     "traceback": [
      "\u001b[0;31m---------------------------------------------------------------------------\u001b[0m",
      "\u001b[0;31mNameError\u001b[0m                                 Traceback (most recent call last)",
      "\u001b[0;32m<ipython-input-10-4e0472556bb7>\u001b[0m in \u001b[0;36m<module>\u001b[0;34m\u001b[0m\n\u001b[1;32m      6\u001b[0m \u001b[0mcoords\u001b[0m \u001b[0;34m=\u001b[0m \u001b[0mnp\u001b[0m\u001b[0;34m.\u001b[0m\u001b[0mloadtxt\u001b[0m\u001b[0;34m(\u001b[0m\u001b[0;34m'outputs/128_0.npy'\u001b[0m\u001b[0;34m,\u001b[0m \u001b[0mdelimiter\u001b[0m\u001b[0;34m=\u001b[0m\u001b[0;34m','\u001b[0m\u001b[0;34m)\u001b[0m\u001b[0;34m\u001b[0m\u001b[0;34m\u001b[0m\u001b[0m\n\u001b[1;32m      7\u001b[0m \u001b[0;31m## Plot samples\u001b[0m\u001b[0;34m\u001b[0m\u001b[0;34m\u001b[0m\u001b[0;34m\u001b[0m\u001b[0m\n\u001b[0;32m----> 8\u001b[0;31m \u001b[0mnum_res\u001b[0m \u001b[0;34m=\u001b[0m \u001b[0mnp\u001b[0m\u001b[0;34m.\u001b[0m\u001b[0msum\u001b[0m\u001b[0;34m(\u001b[0m\u001b[0mmask\u001b[0m\u001b[0;34m.\u001b[0m\u001b[0mcpu\u001b[0m\u001b[0;34m(\u001b[0m\u001b[0;34m)\u001b[0m\u001b[0;34m.\u001b[0m\u001b[0mnumpy\u001b[0m\u001b[0;34m(\u001b[0m\u001b[0;34m)\u001b[0m\u001b[0;34m,\u001b[0m \u001b[0maxis\u001b[0m\u001b[0;34m=\u001b[0m\u001b[0;34m-\u001b[0m\u001b[0;36m1\u001b[0m\u001b[0;34m)\u001b[0m\u001b[0;34m\u001b[0m\u001b[0;34m\u001b[0m\u001b[0m\n\u001b[0m\u001b[1;32m      9\u001b[0m \u001b[0mnrows\u001b[0m \u001b[0;34m=\u001b[0m \u001b[0mint\u001b[0m\u001b[0;34m(\u001b[0m\u001b[0mnp\u001b[0m\u001b[0;34m.\u001b[0m\u001b[0msqrt\u001b[0m\u001b[0;34m(\u001b[0m\u001b[0mbatch_size\u001b[0m\u001b[0;34m)\u001b[0m\u001b[0;34m)\u001b[0m\u001b[0;34m\u001b[0m\u001b[0;34m\u001b[0m\u001b[0m\n\u001b[1;32m     10\u001b[0m \u001b[0mncols\u001b[0m \u001b[0;34m=\u001b[0m \u001b[0mnrows\u001b[0m\u001b[0;34m\u001b[0m\u001b[0;34m\u001b[0m\u001b[0m\n",
      "\u001b[0;31mNameError\u001b[0m: name 'mask' is not defined"
     ]
    }
   ],
   "source": [
    "from plotly.subplots import make_subplots\n",
    "import numpy as np\n",
    "%matplotlib inline\n",
    "#load coordinates\n",
    "coords = np.loadtxt('outputs/128_0.npy', delimiter=',')\n",
    "## Plot samples\n",
    "num_res = np.sum(mask.cpu().numpy(), axis=-1)\n",
    "nrows = int(np.sqrt(batch_size))\n",
    "ncols = nrows\n",
    "fig = make_subplots(\n",
    "    rows=nrows, cols=ncols,\n",
    "    specs=[[{'type': 'surface'}] * nrows]*ncols)\n",
    "# Take last time step\n",
    "# last_sample = coords\n",
    "fig.update_layout(\n",
    "    title_text=f'Samples',\n",
    "    height=1000,\n",
    "    width=1000,\n",
    ")\n",
    "\n",
    "sample_bb_3d = au.create_scatter(\n",
    "    coords, mode='lines+markers', marker_size=3,\n",
    "    opacity=1.0, name=f'Sample {1}: length={num_res[0]}')\n",
    "fig.add_trace(sample_bb_3d, row=1, col=1)\n",
    "        \n",
    "fig.show(renderer='browser')"
   ]
  },
  {
   "cell_type": "markdown",
   "metadata": {},
   "source": [
    "self-consistency to PDMLM and alphafold"
   ]
  },
  {
   "cell_type": "code",
   "execution_count": 6,
   "metadata": {
    "tags": []
   },
   "outputs": [
    {
     "name": "stdout",
     "output_type": "stream",
     "text": [
      "Using CA-ProteinMPNN!\n",
      "----------------------------------------\n",
      "chain_id_jsonl is NOT loaded\n",
      "----------------------------------------\n",
      "fixed_positions_jsonl is NOT loaded\n",
      "----------------------------------------\n",
      "pssm_jsonl is NOT loaded\n",
      "----------------------------------------\n",
      "omit_AA_jsonl is NOT loaded\n",
      "----------------------------------------\n",
      "bias_AA_jsonl is NOT loaded\n",
      "----------------------------------------\n",
      "tied_positions_jsonl is NOT loaded\n",
      "----------------------------------------\n",
      "bias by residue dictionary is not loaded, or not provided\n",
      "----------------------------------------\n",
      "----------------------------------------\n",
      "Number of edges: 48\n",
      "Training noise level: 0.2A\n",
      "Generating sequences for: len_128_0\n",
      "2 sequences of length 128 generated in 4.3915 seconds\n"
     ]
    }
   ],
   "source": [
    "path_to_PDB=\"outputs/len_128_0.pdb\"\n",
    "output_dir=\"outputs/\"\n",
    "\n",
    "!python /Users/cplu/Downloads/Documents/ProteinMPNN/protein_mpnn_run.py \\\n",
    "        --pdb_path $path_to_PDB \\\n",
    "        --out_folder $output_dir \\\n",
    "        --num_seq_per_target 2 \\\n",
    "        --sampling_temp \"0.1\" \\\n",
    "        --seed 37 \\\n",
    "        --batch_size 1 \\\n",
    "        --ca_only"
   ]
  },
  {
   "cell_type": "code",
   "execution_count": 49,
   "metadata": {
    "jupyter": {
     "source_hidden": true
    }
   },
   "outputs": [],
   "source": [
    "import Bio\n",
    "import Bio.PDB\n",
    "import Bio.SeqRecord\n",
    "\n",
    "def read_pdb(pdbcode, pdbfilenm):\n",
    "    \"\"\"\n",
    "    Read a PDB structure from a file.\n",
    "    :param pdbcode: A PDB ID string\n",
    "    :param pdbfilenm: The PDB file\n",
    "    :return: a Bio.PDB.Structure object or None if something went wrong\n",
    "    \"\"\"\n",
    "    try:\n",
    "        pdbparser = Bio.PDB.PDBParser(QUIET=True)   # suppress PDBConstructionWarning\n",
    "        struct = pdbparser.get_structure(pdbcode, pdbfilenm)\n",
    "        return struct\n",
    "    except Exception as err:\n",
    "        print(str(err), file=sys.stderr)\n",
    "        return None \n",
    "def extract_seqrecords(pdbcode, struct):\n",
    "    \"\"\"\n",
    "    Extracts the sequence records from a Bio.PDB structure.\n",
    "    :param pdbcode: the PDB ID of the structure, needed to add a sequence ID to the result\n",
    "    :param struct: a Bio.PDB.Structure object\n",
    "    :return: a list of Bio.SeqRecord objects\n",
    "    \"\"\"\n",
    "    ppb = Bio.PDB.PPBuilder()\n",
    "    seqrecords = []\n",
    "    for i, chain in enumerate(struct.get_chains()):\n",
    "        # extract and store sequences as list of SeqRecord objects\n",
    "        pps = ppb.build_peptides(chain)    # polypeptides\n",
    "        print(struct.get_chains())\n",
    "        seq = pps[0].get_sequence() # just take the first, hope there's no chain break\n",
    "        seqid = pdbcode + chain.id\n",
    "        seqrec = Bio.SeqRecord.SeqRecord(seq, id=seqid, \n",
    "            description=\"Sequence #{}, {}\".format(i+1, seqid))\n",
    "        seqrecords.append(seqrec)\n",
    "    return seqrecords\n",
    "\n",
    "def get_calphas_coord(struct):\n",
    "    \"\"\"\n",
    "    Extracts the C-alpha atoms from a PDB structure.\n",
    "    :param struct: A Bio.PDB.Structure object.\n",
    "    :return: A list of Bio.PDB.Atom objects representing the C-alpha atoms in `struct`.\n",
    "    \"\"\"\n",
    "    calphas = [ atom for atom in struct.get_atoms() if atom.get_fullname() == \" CA \" ]\n",
    "    coords = np.array([atom.coord.tolist() for atom in calphas],dtype='float16')\n",
    "    return coords\n",
    "\n",
    "pdb1_struct = read_pdb('pdb1', pdb1_path)\n",
    "pdb2_struct = read_pdb('pdb2', pdb2_path)\n",
    "\n",
    "# only work for monomers\n",
    "seq1 = str(extract_seqrecords('pdb1', pdb1_struct)[0].seq)\n",
    "seq2 = str(extract_seqrecords('pdb2', pdb2_struct)[0].seq)\n",
    "\n",
    "coords1 = get_calphas_coord(pdb1_struct)\n",
    "coords2 = get_calphas_coord(pdb2_struct)"
   ]
  },
  {
   "cell_type": "code",
   "execution_count": 56,
   "metadata": {},
   "outputs": [],
   "source": [
    "from tmtools.io import get_structure, get_residue_data\n",
    "from tmtools.testing import get_pdb_path\n",
    "def scTM(pdb1_path, pdb2_path):\n",
    "    s = get_structure(pdb1_path)\n",
    "    chain = next(s.get_chains())\n",
    "    coords1, seq1 = get_residue_data(chain)\n",
    "    \n",
    "    s = get_structure(pdb2_path)\n",
    "    chain = next(s.get_chains())\n",
    "    coords2, seq2 = get_residue_data(chain)\n",
    "    res = tm_align(coords1, coords2, seq1, seq2)\n",
    "    return res.tm_norm_chain1"
   ]
  },
  {
   "cell_type": "code",
   "execution_count": 57,
   "metadata": {},
   "outputs": [
    {
     "data": {
      "text/plain": [
       "0.4783427235910389"
      ]
     },
     "execution_count": 57,
     "metadata": {},
     "output_type": "execute_result"
    }
   ],
   "source": [
    "from tmtools import tm_align\n",
    "pdb0_path = 'outputs/len_128_0.pdb'\n",
    "pdb1_path = 'outputs/genie_128_1_a5a94/1_a5a94_unrelaxed_rank_001_alphafold2_ptm_model_5_seed_000.pdb'\n",
    "pdb2_path = 'outputs/genie_128_2_3e40f/genie_128_2_3e40f_unrelaxed_rank_001_alphafold2_ptm_model_2_seed_000.pdb'\n",
    "scTM(pdb0_path, pdb1_path)"
   ]
  },
  {
   "cell_type": "code",
   "execution_count": 58,
   "metadata": {},
   "outputs": [
    {
     "data": {
      "text/plain": [
       "0.37578811346275875"
      ]
     },
     "execution_count": 58,
     "metadata": {},
     "output_type": "execute_result"
    }
   ],
   "source": [
    "scTM(pdb0_path, pdb2_path)"
   ]
  },
  {
   "cell_type": "markdown",
   "metadata": {},
   "source": [
    "# Train dhaA dataset"
   ]
  },
  {
   "cell_type": "code",
   "execution_count": null,
   "metadata": {},
   "outputs": [],
   "source": [
    "parser = argparse.ArgumentParser()\n",
    "parser.add_argument('-g', '--gpus', type=str, help='GPU devices to use')\n",
    "parser.add_argument('-c', '--config', type=str, help='Path for configuration file', required=True)\n",
    "args = parser.parse_args()"
   ]
  }
 ],
 "metadata": {
  "kernelspec": {
   "display_name": "Python 3",
   "language": "python",
   "name": "python3"
  },
  "language_info": {
   "codemirror_mode": {
    "name": "ipython",
    "version": 3
   },
   "file_extension": ".py",
   "mimetype": "text/x-python",
   "name": "python",
   "nbconvert_exporter": "python",
   "pygments_lexer": "ipython3",
   "version": "3.7.1"
  }
 },
 "nbformat": 4,
 "nbformat_minor": 5
}
