{
 "cells": [
  {
   "cell_type": "code",
   "execution_count": null,
   "id": "f77b6773-6bca-4c3f-a0db-6301c6e74a83",
   "metadata": {},
   "outputs": [],
   "source": []
  },
  {
   "cell_type": "code",
   "execution_count": null,
   "id": "5f98697e-f930-4f11-93d3-76050fc1678b",
   "metadata": {},
   "outputs": [],
   "source": []
  },
  {
   "cell_type": "markdown",
   "id": "238da8cd-5009-4584-bfa9-6ddd148cb0cf",
   "metadata": {},
   "source": [
    "# Generate new proteins using pre-trained genie"
   ]
  },
  {
   "cell_type": "code",
   "execution_count": null,
   "id": "76beabc5-c88c-4a5d-bddb-c7add8ee36d4",
   "metadata": {},
   "outputs": [],
   "source": []
  },
  {
   "cell_type": "code",
   "execution_count": 1,
   "id": "2fba842f-b047-4edd-8867-382a8740393b",
   "metadata": {
    "tags": []
   },
   "outputs": [
    {
     "name": "stdin",
     "output_type": "stream",
     "text": [
      "GPU devices to use: 0\n",
      "Save generated coordinates to: \n",
      "number of batches: 1\n",
      "batch size: 1\n"
     ]
    }
   ],
   "source": [
    "import os\n",
    "import sys\n",
    "import torch\n",
    "import argparse\n",
    "import numpy as np\n",
    "from tqdm import tqdm, trange\n",
    "\n",
    "gpu = input(\"GPU devices to use:\")\n",
    "if gpu == '':\n",
    "    gpu = None\n",
    "outdir = input(\"Save generated coordinates to:\")\n",
    "if outdir == '':\n",
    "    outdir = 'outputs'\n",
    "num_batches = input(\"number of batches:\")\n",
    "if num_batches == '':\n",
    "    num_batches = 2\n",
    "else:\n",
    "    num_batches = int(num_batches)\n",
    "batch_size = input(\"batch size:\")\n",
    "if batch_size == '':\n",
    "    batch_size = 5\n",
    "else:\n",
    "    batch_size = int(batch_size)\n",
    "\n",
    "if not os.path.exists(outdir):\n",
    "    os.mkdir(outdir)"
   ]
  },
  {
   "cell_type": "code",
   "execution_count": 2,
   "id": "7b6ac455-5793-414b-8a0b-2aeaf36ae039",
   "metadata": {
    "tags": []
   },
   "outputs": [
    {
     "name": "stderr",
     "output_type": "stream",
     "text": [
      "Lightning automatically upgraded your loaded checkpoint from v1.8.3.post1 to v2.0.0. To apply the upgrade to your files permanently, run `python -m pytorch_lightning.utilities.upgrade_checkpoint --file weights/genie_l_128_epoch=49999.ckpt`\n"
     ]
    }
   ],
   "source": [
    "from genie.config import Config\n",
    "from genie.diffusion.genie import Genie\n",
    "\n",
    "config = Config('weights/configuration')\n",
    "model = Genie.load_from_checkpoint('weights/genie_l_128_epoch=49999.ckpt', config=config)\n",
    "\n",
    "device = 'cuda:{}'.format(gpu) if gpu is not None else 'cpu'\n",
    "model = model.to(device)"
   ]
  },
  {
   "cell_type": "code",
   "execution_count": 6,
   "id": "e12a5f0c-4450-467a-875b-f385381a316a",
   "metadata": {
    "tags": []
   },
   "outputs": [
    {
     "name": "stdout",
     "output_type": "stream",
     "text": [
      "torch.Size([1, 128])\n"
     ]
    }
   ],
   "source": [
    "# sanity check\n",
    "# min_length = 50\n",
    "max_length = 128\n",
    "max_n_res = model.config.io['max_n_res']\n",
    "assert max_length <= max_n_res\n",
    "\n",
    "# sample\n",
    "# for length in trange(min_length, max_length + 1):\n",
    "length = 128\n",
    "for batch_idx in range(num_batches):\n",
    "    mask = torch.cat([\n",
    "        torch.ones((batch_size, length)),\n",
    "        torch.zeros((batch_size, max_n_res - length))\n",
    "    ], dim=1).to(device)\n",
    "    ts = model.p_sample_loop(mask, verbose=False)[-1]\n",
    "    for batch_sample_idx in range(ts.shape[0]):\n",
    "        sample_idx = batch_idx * batch_size + batch_sample_idx\n",
    "        coords = ts[batch_sample_idx].trans.detach().cpu().numpy()\n",
    "        coords = coords[:length]\n",
    "        np.savetxt(os.path.join(outdir, f'{length}_{sample_idx}.npy'), coords, fmt='%.3f', delimiter=',')"
   ]
  },
  {
   "cell_type": "code",
   "execution_count": null,
   "id": "12f0ca6e-16dd-4350-b291-84926bedb261",
   "metadata": {},
   "outputs": [],
   "source": [
    "save_path = f'{sample_dir}/len_{num_res_sample}_{b_idx}.pdb'\n",
    "au.write_prot_to_pdb(sampled_diffusion[b_idx][-1], save_path, no_indexing=True)"
   ]
  },
  {
   "cell_type": "code",
   "execution_count": 31,
   "id": "acd45432-096b-4bd7-ae58-7828c8c8bc96",
   "metadata": {
    "tags": []
   },
   "outputs": [],
   "source": [
    "import plotly.graph_objects as go\n",
    "def create_scatter(pos_3d,\n",
    "                   mode='markers',\n",
    "                   marker_size=None,\n",
    "                   name=None,\n",
    "                   opacity=None,\n",
    "                   color=None,\n",
    "                   colorscale=None,\n",
    "                   ):\n",
    "    \"\"\"Creates Scatter3D objects for use in plotly.\n",
    "    Args:\n",
    "        pos_3d: [N, 3] array containing N points with\n",
    "            euclidean coordinates.\n",
    "        mode: How to display points.\n",
    "            Use 'markers' for scatter.\n",
    "            Use 'lines' for lines connecting consecutive points.\n",
    "            Use 'lines+markers' for scatter and lines.\n",
    "        marker_size: Size of markers.\n",
    "        name: Label of plotting layer to be displayed in legend.\n",
    "        opacity: Transparency of points.\n",
    "    \"\"\"\n",
    "    x, y, z = np.split(pos_3d, 3, axis=-1)\n",
    "    args_dict = {\n",
    "        'x': x[:, 0],\n",
    "        'y': y[:, 0],\n",
    "        'z': z[:, 0],\n",
    "        'mode': mode,\n",
    "        'marker': {}\n",
    "    }\n",
    "    if marker_size:\n",
    "        args_dict['marker']['size'] = marker_size\n",
    "    if name:\n",
    "        args_dict['name'] = name\n",
    "    if opacity:\n",
    "        args_dict['opacity'] = opacity\n",
    "    if color:\n",
    "        args_dict['marker']['color'] = color\n",
    "    if colorscale:\n",
    "        args_dict['marker']['colorscale'] = colorscale\n",
    "    return go.Scatter3d(**args_dict)"
   ]
  },
  {
   "cell_type": "code",
   "execution_count": 52,
   "id": "8521d3c8-5e19-45e0-b484-54a9c1835c87",
   "metadata": {
    "tags": []
   },
   "outputs": [],
   "source": [
    "from plotly.subplots import make_subplots\n",
    "%matplotlib inline\n",
    "## Plot samples\n",
    "num_res = np.sum(mask.cpu().numpy(), axis=-1)\n",
    "nrows = int(np.sqrt(batch_size))\n",
    "ncols = nrows\n",
    "fig = make_subplots(\n",
    "    rows=nrows, cols=ncols,\n",
    "    specs=[[{'type': 'surface'}] * nrows]*ncols)\n",
    "# Take last time step\n",
    "# last_sample = coords\n",
    "fig.update_layout(\n",
    "    title_text=f'Samples',\n",
    "    height=1000,\n",
    "    width=1000,\n",
    ")\n",
    "\n",
    "sample_bb_3d = create_scatter(\n",
    "    coords, mode='lines+markers', marker_size=3,\n",
    "    opacity=1.0, name=f'Sample {1}: length={num_res[0]}')\n",
    "fig.add_trace(sample_bb_3d, row=1, col=1)\n",
    "        \n",
    "fig.show(renderer='browser')"
   ]
  },
  {
   "cell_type": "markdown",
   "id": "6584ad36-414d-4ea3-bb82-65b6c3621492",
   "metadata": {},
   "source": [
    "self-consistency to PDMLM and alphafold"
   ]
  },
  {
   "cell_type": "code",
   "execution_count": 57,
   "id": "6313b77d-9e5a-4627-9080-eae67a63cf23",
   "metadata": {
    "tags": []
   },
   "outputs": [
    {
     "name": "stdout",
     "output_type": "stream",
     "text": [
      "----------------------------------------\n",
      "chain_id_jsonl is NOT loaded\n",
      "----------------------------------------\n",
      "fixed_positions_jsonl is NOT loaded\n",
      "----------------------------------------\n",
      "pssm_jsonl is NOT loaded\n",
      "----------------------------------------\n",
      "omit_AA_jsonl is NOT loaded\n",
      "----------------------------------------\n",
      "bias_AA_jsonl is NOT loaded\n",
      "----------------------------------------\n",
      "tied_positions_jsonl is NOT loaded\n",
      "----------------------------------------\n",
      "bias by residue dictionary is not loaded, or not provided\n",
      "----------------------------------------\n",
      "----------------------------------------\n",
      "Number of edges: 48\n",
      "Training noise level: 0.2A\n",
      "Traceback (most recent call last):\n",
      "  File \"/mnt/d/RESEARCH/ProteinMPNN/protein_mpnn_run.py\", line 423, in <module>\n",
      "    main(args)   \n",
      "  File \"/mnt/d/RESEARCH/ProteinMPNN/protein_mpnn_run.py\", line 218, in main\n",
      "    X, S, mask, lengths, chain_M, chain_encoding_all, chain_list_list, visible_list_list, masked_list_list, masked_chain_length_list_list, chain_M_pos, omit_AA_mask, residue_idx, dihedral_mask, tied_pos_list_of_lists_list, pssm_coef, pssm_bias, pssm_log_odds_all, bias_by_res_all, tied_beta = tied_featurize(batch_clones, device, chain_id_dict, fixed_positions_dict, omit_AA_dict, tied_positions_dict, pssm_dict, bias_by_res_dict, ca_only=args.ca_only)\n",
      "  File \"/mnt/d/RESEARCH/ProteinMPNN/protein_mpnn_utils.py\", line 340, in tied_featurize\n",
      "    x = np.concatenate(x_chain_list,0) #[L, 4, 3]\n",
      "  File \"<__array_function__ internals>\", line 200, in concatenate\n",
      "ValueError: need at least one array to concatenate\n"
     ]
    }
   ],
   "source": [
    "path_to_PDB=\"/mnt/d/RESEARCH/DMREF/genie/outputs/128_0.npy\"\n",
    "output_dir=\"outputs/\"\n",
    "\n",
    "!python /mnt/d/RESEARCH/ProteinMPNN/protein_mpnn_run.py \\\n",
    "        --pdb_path $path_to_PDB \\\n",
    "        --out_folder $output_dir \\\n",
    "        --num_seq_per_target 2 \\\n",
    "        --sampling_temp \"0.1\" \\\n",
    "        --seed 37 \\\n",
    "        --batch_size 1"
   ]
  },
  {
   "cell_type": "markdown",
   "id": "2540d3e4-96ed-4e7c-bcf3-759e4e84c801",
   "metadata": {},
   "source": [
    "# Train dhaA dataset"
   ]
  },
  {
   "cell_type": "code",
   "execution_count": null,
   "id": "1652e230-7467-472d-893e-c4a21ea4603c",
   "metadata": {},
   "outputs": [],
   "source": [
    "parser = argparse.ArgumentParser()\n",
    "parser.add_argument('-g', '--gpus', type=str, help='GPU devices to use')\n",
    "parser.add_argument('-c', '--config', type=str, help='Path for configuration file', required=True)\n",
    "args = parser.parse_args()"
   ]
  }
 ],
 "metadata": {
  "kernelspec": {
   "display_name": "Python 3 (ipykernel)",
   "language": "python",
   "name": "python3"
  },
  "language_info": {
   "codemirror_mode": {
    "name": "ipython",
    "version": 3
   },
   "file_extension": ".py",
   "mimetype": "text/x-python",
   "name": "python",
   "nbconvert_exporter": "python",
   "pygments_lexer": "ipython3",
   "version": "3.8.16"
  }
 },
 "nbformat": 4,
 "nbformat_minor": 5
}
